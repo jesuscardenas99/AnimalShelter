{
 "cells": [
  {
   "cell_type": "code",
   "execution_count": 1,
   "id": "60577df0",
   "metadata": {},
   "outputs": [],
   "source": [
    "\n",
    "from animal_shelter import AnimalShelter\n",
    "crud = AnimalShelter()"
   ]
  },
  {
   "cell_type": "code",
   "execution_count": 2,
   "id": "40cd0781",
   "metadata": {},
   "outputs": [
    {
     "name": "stdout",
     "output_type": "stream",
     "text": [
      "Inserting: {'animal_id': 'X123456', 'animal_type': 'Dog', 'breed': 'American Bulldog', 'color': 'Black'}\n",
      "True\n"
     ]
    }
   ],
   "source": [
    "# Insert test\n",
    "dog = {\n",
    "    \"animal_id\": \"X123456\",\n",
    "    \"animal_type\": \"Dog\",\n",
    "    \"breed\": \"American Bulldog\",\n",
    "    \"color\": \"Black\"\n",
    "}\n",
    "\n",
    "print(\"Inserting:\", dog)\n",
    "\n",
    "# Insert dog\n",
    "insertion_result = crud.create([dog])\n",
    "# Print results\n",
    "print(insertion_result)\n"
   ]
  },
  {
   "cell_type": "code",
   "execution_count": 3,
   "id": "a63b8306",
   "metadata": {},
   "outputs": [
    {
     "name": "stdout",
     "output_type": "stream",
     "text": [
      "Query Result: [{'_id': ObjectId('6796eac1fc20700338ff276c'), 'rec_num': 249, 'age_upon_outcome': '7 years', 'animal_id': 'A666693', 'animal_type': 'Dog', 'breed': 'American Bulldog', 'color': 'White/Brown Brindle', 'date_of_birth': '2006-11-06', 'datetime': '2014-02-17 12:38:00', 'monthyear': '2014-02-17T12:38:00', 'name': 'Daisy', 'outcome_subtype': '', 'outcome_type': 'Adoption', 'sex_upon_outcome': 'Spayed Female', 'location_lat': 30.5778990053413, 'location_long': -97.4183297587803, 'age_upon_outcome_in_weeks': 380.075198412698}, {'_id': ObjectId('6796eac1fc20700338ff313e'), 'rec_num': 2763, 'age_upon_outcome': '9 months', 'animal_id': 'A761569', 'animal_type': 'Dog', 'breed': 'American Bulldog', 'color': 'White/Brown Brindle', 'date_of_birth': '2017-02-25', 'datetime': '2017-11-26 12:54:00', 'monthyear': '2017-11-26T12:54:00', 'name': 'Raider', 'outcome_subtype': '', 'outcome_type': 'Adoption', 'sex_upon_outcome': 'Neutered Male', 'location_lat': 30.6214258546845, 'location_long': -97.3005046516529, 'age_upon_outcome_in_weeks': 39.2196428571429}, {'_id': ObjectId('6796eac1fc20700338ff476f'), 'rec_num': 8439, 'age_upon_outcome': '3 years', 'animal_id': 'A697422', 'animal_type': 'Dog', 'breed': 'American Bulldog', 'color': 'White/Brown Brindle', 'date_of_birth': '2012-02-23', 'datetime': '2015-03-04 11:19:00', 'monthyear': '2015-03-04T11:19:00', 'name': 'June', 'outcome_subtype': '', 'outcome_type': 'Return to Owner', 'sex_upon_outcome': 'Spayed Female', 'location_lat': 30.4342860528028, 'location_long': -97.4770242773101, 'age_upon_outcome_in_weeks': 157.924503968254}, {'_id': ObjectId('6796eac1fc20700338ff4b63'), 'rec_num': 9439, 'age_upon_outcome': '2 years', 'animal_id': 'A671578', 'animal_type': 'Dog', 'breed': 'American Bulldog', 'color': 'Tricolor', 'date_of_birth': '2012-01-27', 'datetime': '2014-01-28 19:02:00', 'monthyear': '2014-01-28T19:02:00', 'name': 'Razor', 'outcome_subtype': '', 'outcome_type': 'Return to Owner', 'sex_upon_outcome': 'Intact Male', 'location_lat': 30.4021477295854, 'location_long': -97.4419397765228, 'age_upon_outcome_in_weeks': 104.684722222222}, {'_id': ObjectId('67a94b448f3d0ee688b9464c'), 'animal_id': 'X123456', 'animal_type': 'Dog', 'breed': 'American Bulldog', 'color': 'Black', 'rec_num': 10001}]\n"
     ]
    }
   ],
   "source": [
    "# Read test\n",
    "\n",
    "query_result = crud.read({\"breed\": \"American Bulldog\"})\n",
    "\n",
    "#prints result\n",
    "print(\"Query Result:\", query_result)"
   ]
  },
  {
   "cell_type": "code",
   "execution_count": 4,
   "id": "6584adf5",
   "metadata": {},
   "outputs": [
    {
     "name": "stdout",
     "output_type": "stream",
     "text": [
      "Update Result: Updated 1 document\n",
      "Query Result After Update: [{'_id': ObjectId('67a94b448f3d0ee688b9464c'), 'animal_id': 'X123456', 'animal_type': 'Dog', 'breed': 'American Bulldog', 'color': 'Brown', 'rec_num': 10001}]\n"
     ]
    }
   ],
   "source": [
    "# Update test\n",
    "update_data = {\"color\": \"Brown\"} # update color\n",
    "update_result = crud.update({\"animal_id\": \"X123456\"}, update_data)\n",
    "print(\"Update Result: Updated\", update_result, \"document\")\n",
    "\n",
    "#read test after update\n",
    "query_result_after_update = crud.read({\"animal_id\": \"X123456\"})\n",
    "print(\"Query Result After Update:\", query_result_after_update)"
   ]
  },
  {
   "cell_type": "code",
   "execution_count": 5,
   "id": "b1842b91",
   "metadata": {},
   "outputs": [
    {
     "name": "stdout",
     "output_type": "stream",
     "text": [
      "Delete Result: Deleted 1 documents:\n"
     ]
    }
   ],
   "source": [
    "# Delete Test\n",
    "delete_result = crud.delete({\"animal_id\": \"X123456\"}, multiple = True)\n",
    "#displays deletions\n",
    "print(\"Delete Result: Deleted\", delete_result, \"documents:\")"
   ]
  },
  {
   "cell_type": "code",
   "execution_count": null,
   "id": "e96767b9",
   "metadata": {},
   "outputs": [],
   "source": []
  }
 ],
 "metadata": {
  "kernelspec": {
   "display_name": "Python 3 (ipykernel)",
   "language": "python",
   "name": "python3"
  },
  "language_info": {
   "codemirror_mode": {
    "name": "ipython",
    "version": 3
   },
   "file_extension": ".py",
   "mimetype": "text/x-python",
   "name": "python",
   "nbconvert_exporter": "python",
   "pygments_lexer": "ipython3",
   "version": "3.9.12"
  }
 },
 "nbformat": 4,
 "nbformat_minor": 5
}
